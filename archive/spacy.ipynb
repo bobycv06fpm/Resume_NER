{
 "cells": [
  {
   "cell_type": "markdown",
   "metadata": {
    "collapsed": true
   },
   "source": [
    "# Resume NER\n",
    "## Extract Information from Resumes using NER (Named Entity Recognition)"
   ]
  },
  {
   "cell_type": "markdown",
   "metadata": {},
   "source": [
    "### Part 2 - NER with Spacy\n",
    "In this second part of the challenge, we will be using the preprocessed data from part one to start training NER models. We will be using spacy (https://spacy.io/) here to \"get our feet wet\" with NER, as training spacy can be reasonably done on our laptops and does not yet necessarily require a GPU. Spacy is a powerful, effective, and resource-efficient NLP library - It might surprise us with its performance on the challenge!\n",
    "\n",
    "We will run spacy's pretrained models on our data to get a feel for NER, and then we will perform some additional preprocessing on our data before we start training our own NER model using the labelled entities we have identified in part one. \n",
    "We will also explore evaluation metrics for NER, and decide how we want to quantify the performance of our trained models. \n",
    "\n",
    "* *If you need help setting up python or running this notebook, please get help from the  assistants to the professor*\n",
    "* *It might be helpful to try your code out first in a python ide like pycharm before copying it an running it here in this notebook*\n",
    "* *For solving the programming tasks, use the python reference linked here (Help->Python Reference) as well as Web-searches.* "
   ]
  },
  {
   "cell_type": "markdown",
   "metadata": {},
   "source": [
    "##### Reload preprocessed data\n",
    "Here, we will load the data we saved in part one and save it to a variable. Provide code below to load the data and store it as a list in a variable. (Hint - use 'open' and the json module)"
   ]
  },
  {
   "cell_type": "code",
   "execution_count": 1,
   "metadata": {},
   "outputs": [
    {
     "name": "stdout",
     "output_type": "stream",
     "text": [
      "Loaded: 690 resumes\n"
     ]
    }
   ],
   "source": [
    "## import json module\n",
    "import json\n",
    "path = \"../dataset/converted_resumes.json\"\n",
    "## TODO open file and load as json\n",
    "with open(path,encoding=\"utf8\") as f:\n",
    "    resumes = json.load(f)\n",
    "## TODO print length of loaded resumes list to be sure everything ok\n",
    "print(\"Loaded: {} resumes\".format(len(resumes)))"
   ]
  },
  {
   "cell_type": "markdown",
   "metadata": {},
   "source": [
    "##### Take Spacy for a spin\n",
    "Before we train our own NER model to recognize the resume-specific entities we want to capture, let's see how spacy's pretrained NER models do on our data. These pretrained models can't recognize our entities yet, but let's see how they do. Run the next code block to load spacy's English language model \n"
   ]
  },
  {
   "cell_type": "code",
   "execution_count": 2,
   "metadata": {
    "scrolled": true
   },
   "outputs": [
    {
     "name": "stdout",
     "output_type": "stream",
     "text": [
      "<spacy.lang.en.English object at 0x000001ACCBB86E80>\n"
     ]
    }
   ],
   "source": [
    "import spacy\n",
    "nlp = spacy.load('en')\n",
    "print(nlp)"
   ]
  },
  {
   "cell_type": "markdown",
   "metadata": {},
   "source": [
    "Now we get the EntityRecognizer in the loaded nlp pipeline and display the labels it supports"
   ]
  },
  {
   "cell_type": "code",
   "execution_count": 3,
   "metadata": {},
   "outputs": [
    {
     "name": "stdout",
     "output_type": "stream",
     "text": [
      "('PERSON', 'ORG', 'DATE', 'LOC', 'QUANTITY', 'FAC', 'EVENT', 'WORK_OF_ART', 'TIME', 'MONEY', 'NORP', 'GPE', 'LAW', 'LANGUAGE', 'PRODUCT', 'PERCENT', 'ORDINAL', 'CARDINAL')\n"
     ]
    }
   ],
   "source": [
    "ner = nlp.get_pipe('ner')\n",
    "labels = ner.labels\n",
    "print(labels)"
   ]
  },
  {
   "cell_type": "markdown",
   "metadata": {},
   "source": [
    "##### Question: What do the 'GPE', 'FAC' and 'NORP' labels stand for? (Tipp: use either the spacy.explain method, or google the spacy.io api docs) \n",
    "*Answer here*"
   ]
  },
  {
   "cell_type": "code",
   "execution_count": 4,
   "metadata": {},
   "outputs": [
    {
     "name": "stdout",
     "output_type": "stream",
     "text": [
      "PERSON:  People, including fictional\n",
      "ORG:  Companies, agencies, institutions, etc.\n",
      "DATE:  Absolute or relative dates or periods\n",
      "LOC:  Non-GPE locations, mountain ranges, bodies of water\n",
      "QUANTITY:  Measurements, as of weight or distance\n",
      "FAC:  Buildings, airports, highways, bridges, etc.\n",
      "EVENT:  Named hurricanes, battles, wars, sports events, etc.\n",
      "WORK_OF_ART:  Titles of books, songs, etc.\n",
      "TIME:  Times smaller than a day\n",
      "MONEY:  Monetary values, including unit\n",
      "NORP:  Nationalities or religious or political groups\n",
      "GPE:  Countries, cities, states\n",
      "LAW:  Named documents made into laws.\n",
      "LANGUAGE:  Any named language\n",
      "PRODUCT:  Objects, vehicles, foods, etc. (not services)\n",
      "PERCENT:  Percentage, including \"%\"\n",
      "ORDINAL:  \"first\", \"second\", etc.\n",
      "CARDINAL:  Numerals that do not fall under another type\n"
     ]
    }
   ],
   "source": [
    "### if you choose to use spacy's 'explain' method to get the answer to the question above, provide your code here\n",
    "for label in labels:\n",
    "    print(\"{}:  {}\".format(label,spacy.explain(label)))"
   ]
  },
  {
   "cell_type": "markdown",
   "metadata": {},
   "source": [
    "As we can see, the entities are different than the entities we will train our custom model on. \n",
    "##### Question: what entities do you think this model will find in an example resume?\n",
    "*Answer here*"
   ]
  },
  {
   "cell_type": "markdown",
   "metadata": {},
   "source": [
    "Now we will work with one of our resumes, and get spacy to tell us what entities it recognizes. Complete the code block below to get a single resume text out of our resume list. "
   ]
  },
  {
   "cell_type": "code",
   "execution_count": 5,
   "metadata": {},
   "outputs": [
    {
     "name": "stdout",
     "output_type": "stream",
     "text": [
      "Navas Koya\n",
      "Test Engineer\n",
      "Mangalore, Karnataka - Email me on Indeed: indeed.com/r/Navas-Koya/23c1e4e94779b465\n",
      "Willing to relocate to: Mangalore, Karnataka - Bangalore, Karnataka - Chennai, Tamil Nadu\n",
      "WORK EXPERIENCE\n",
      "System Engineer\n",
      "Infosys -\n",
      "August 2014 to Present\n",
      ".NET application Maintenance and do the code changes if required\n",
      "Test Engineer\n",
      "Infosys -\n",
      "June 2015 to February 2016\n",
      "PrProject 2:\n",
      "Title: RBS W&G Proving testing.\n",
      "Technology: Manual testing\n",
      "Role: Software Test Engineer\n",
      "Domain: Banking\n",
      "Description:\n",
      "Write test cases & descriptions. Review the entries. Upload and map the documents into\n",
      "HP QC. Execute the testing operations in TPROD mainframe. Upload the result in QC along with\n",
      "the proof.\n",
      "Roles and Responsibilities:\n",
      "•Prepared the Test Scenarios\n",
      "•Prepared and Executed Test Cases\n",
      "•Performed functional, Regression testing, Sanity testing.\n",
      "•Reviewed the Test Reports and Preparing Test Summary Report.\n",
      "•Upload Test cases to the QC.\n",
      "•Execute in TPROD Mainframe.\n",
      "•Defect Track and Report.\n",
      "Test Executive\n",
      "Infosys Limited -\n",
      "August 2014 to May 2015\n",
      "https://www.indeed.com/r/Navas-Koya/23c1e4e94779b465?isid=rex-download&ikw=download-top&co=IN\n",
      "\n",
      "Project 1:\n",
      "Title: CAWP (Compliance Automated Work Paper)\n",
      "Technology: Manual testing\n",
      "Role: Software Test Executive\n",
      "Domain: Banking\n",
      "Description:\n",
      "The Admin can create and maintain annual test plan, and users can only view and add\n",
      "details. Testers will get Business Requirement which explains the flows and Functional\n",
      "requirements which gives the full detail of the project.\n",
      "Roles and Responsibilities:\n",
      "•Prepared the Test Scenarios\n",
      "•Prepared and Executed Test Cases\n",
      "•Performed functional, Regression testing, Sanity testing.\n",
      "•Reviewed the Test Reports and Preparing Test Summary Report.\n",
      "•Defect Track and Report.\n",
      "EDUCATION\n",
      "Bachelor of Computer Applications\n",
      "Mangalore University, Mangalore\n",
      "June 2011 to April 2014\n",
      "SKILLS\n",
      "C# (Less than 1 year), .NET, SQL Server, Css, Html5\n",
      "ADDITIONAL INFORMATION\n",
      "Bachelor of computer application: with 74% from Milagres College, Kallianpur under\n",
      "Mangalore University, Karnataka.\n",
      "Navas Najeer Koya 2\n",
      "SKILL SET • ASP.NET, C# • QA tools\n",
      "• Coding and modularization • Excellent communication skills\n",
      "• VB, VB.net, ASP • Technical specifications creation\n",
      "• HTML • System backups\n",
      "• Sql server 2005, Oracle • System upgrades\n",
      "• Java/C/C++ • Excellent problem-solving abilities\n",
      "Navas Najeer Koya 3\n"
     ]
    }
   ],
   "source": [
    "### TODO get a single resume text and print it out\n",
    "restxt = resumes[42][0]\n",
    "print(\"\\n\".join(restxt.split('\\n\\n')))"
   ]
  },
  {
   "cell_type": "markdown",
   "metadata": {},
   "source": [
    "Extracting entities with spacy is easy with a pretrained model. We simply call the model (here 'nlp') with our text to get a spacy Document. See https://spacy.io/api/doc for more detail. \n",
    "\n",
    "Execute the code below to process the resume txt."
   ]
  },
  {
   "cell_type": "code",
   "execution_count": 6,
   "metadata": {},
   "outputs": [],
   "source": [
    "doc = nlp(restxt)"
   ]
  },
  {
   "cell_type": "markdown",
   "metadata": {},
   "source": [
    "The doc object has a list of entities predicted by spacy 'ents'. We would like to loop through all of these entities and print their label and associated text to see what spacy predicted for this resume.\n",
    "\n",
    "Complete the code below to do this. You will probably need to google the spacy api docs to find the solution (Tipp: look for 'Doc.ents'). Also, trying code in your ide (for example pycharm) before copying it here might help with exploring and debugging to find the solution. "
   ]
  },
  {
   "cell_type": "code",
   "execution_count": 7,
   "metadata": {},
   "outputs": [
    {
     "name": "stdout",
     "output_type": "stream",
     "text": [
      "PERSON     Navas Koya\n",
      "PERSON     Test Engineer\n",
      "PERSON     Karnataka - Email\n",
      "PERSON     Karnataka - Bangalore\n",
      "ORG        Karnataka - Chennai\n",
      "DATE       August 2014\n",
      "PERSON     Maintenance\n",
      "PERSON     Test Engineer\n",
      "DATE       June 2015 to February 2016\n",
      "ORG        RBS W&G Proving\n",
      "ORG        HP QC\n",
      "ORG        TPROD\n",
      "PERSON     Responsibilities\n",
      "ORG        Executed Test Cases\n",
      "ORG        the Test Reports\n",
      "ORG        Preparing Test Summary Report\n",
      "ORG        Track and Report\n",
      "PERSON     Infosys Limited -\n",
      "\n",
      "\n",
      "DATE       August 2014\n",
      "DATE       May 2015\n",
      "CARDINAL   1\n",
      "PERSON     CAWP\n",
      "PERSON     Role\n",
      "ORG        Software Test Executive\n",
      "ORG        Admin\n",
      "DATE       annual\n",
      "ORG        Business Requirement\n",
      "ORG        Functional\n",
      "PERSON     Responsibilities\n",
      "ORG        the Test Scenarios\n",
      "\n",
      "ORG        Executed Test Cases\n",
      "ORG        the Test Reports\n",
      "ORG        Preparing Test Summary Report\n",
      "ORG        Track and Report\n",
      "ORG        Computer Applications\n",
      "\n",
      "Mangalore University\n",
      "DATE       June 2011\n",
      "DATE       April 2014\n",
      "ORG        SQL Server, Css\n",
      "PERCENT    74%\n",
      "ORG        Milagres College\n",
      "GPE        Kallianpur\n",
      "ORG        Mangalore University\n",
      "GPE        Karnataka\n",
      "PERSON     ASP.NET\n",
      "CARDINAL   #\n",
      "ORG        QA\n",
      "ORG        VB\n",
      "ORG        ASP\n",
      "ORG        HTML\n",
      "PERSON     System\n",
      "DATE       2005\n",
      "ORG        Oracle\n",
      "PRODUCT    System\n",
      "ORG        Java/C/C++\n"
     ]
    }
   ],
   "source": [
    "##TODO loop through the doc's entities, and print the label and text for each entity found. \n",
    "for ent in doc.ents:\n",
    "    print(\"{:10} {}\".format(ent.label_,ent))"
   ]
  },
  {
   "cell_type": "markdown",
   "metadata": {},
   "source": [
    "##### Questions: What is your first impression of spacy's NER based on the results above? Does it seem accurate/powerfull?\n",
    "##### Does it make many mistakes? Do some entity types seem more accurate than others? How might one go about measuring the accuracy of such an NER system?\n",
    "*Answers here*"
   ]
  },
  {
   "cell_type": "markdown",
   "metadata": {},
   "source": [
    "Now as a comparison, we will list the entities contained in the resume's original annotated training data (remember, the existing annotations were created by a human-annotator, and not predicted by a machine like the entities predicted above) \n",
    "\n",
    "Complete the code below to do the following: \n",
    "* Access the 'entities' list of the example resume you chose, loop through the entities and print them out. \n",
    "* *Tipp: one entity in the list is a tuple with the following structure: (12,1222,\"label\") where the first element is the start index of the entity in the resume text, the second element is the end index, and the third element is the label.\n",
    "* Use this Tipp to print out a formatted list of entities \n",
    "\n"
   ]
  },
  {
   "cell_type": "code",
   "execution_count": 8,
   "metadata": {},
   "outputs": [
    {
     "name": "stdout",
     "output_type": "stream",
     "text": [
      "Skills               SKILL SET • ASP.NET, C# • QA tools • Coding and modularization • Excellent communication skills • VB, VB.net, ASP • Technical specifications creation • HTML • System backups • Sql server 2005, Oracle • System upgrades • Java/C/C++ • Excellent problem-solving abilities Navas Najeer Koya 3\n",
      "Location             Mangalore\n",
      "Skills               C# (Less than 1 year), .NET, SQL Server, Css, Html5\n",
      "Graduation Year      2014\n",
      "Location             Mangalore\n",
      "Location             Mangalore\n",
      "Degree               Bachelor of Computer Application\n",
      "Graduation Year      2014\n",
      "Companies worked at  Infosys\n",
      "Designation          Test Engineer\n",
      "Companies worked at  Infosys\n",
      "Designation          Test Engineer\n",
      "Graduation Year      2014\n",
      "Companies worked at  Infosys\n",
      "Designation          System Engineer\n",
      "Location             Mangalore\n",
      "Location             Mangalore\n",
      "Designation          Test Engineer\n",
      "Name                 Navas Koya\n"
     ]
    }
   ],
   "source": [
    "##TODO access entities\n",
    "res = resumes[42]\n",
    "restext = res[0] \n",
    "labeled_ents = res[1]['entities']\n",
    "## TDOD print out formatted list of entities\n",
    "for ent in labeled_ents:\n",
    "    enttext = restext[ent[0]:ent[1]]\n",
    "    enttext = \" \".join(enttext.split())\n",
    "    print(\"{:20} {}\".format(ent[2],enttext))"
   ]
  },
  {
   "cell_type": "markdown",
   "metadata": {},
   "source": [
    "As we already know, the annotated entities in the training data are different than the entities spacy can recognize with it's pretrainied models, so we need to train a custom NER model. We will get started with that now. "
   ]
  },
  {
   "cell_type": "markdown",
   "metadata": {},
   "source": [
    "##### Prepare Training Data for NER model training\n",
    "We need to do some more preprocessing of our training data before we can train our model."
   ]
  },
  {
   "cell_type": "markdown",
   "metadata": {},
   "source": [
    "Remember the entity labels you chose in part 1 of the challenge? We will be training a model to predict those entities.\n",
    "As a first step, we will gather all resumes that contain at least one training annotation for those entities.\n",
    "\n",
    "Complete and execute the code below to gather your training data. "
   ]
  },
  {
   "cell_type": "code",
   "execution_count": 9,
   "metadata": {},
   "outputs": [
    {
     "name": "stdout",
     "output_type": "stream",
     "text": [
      "Gathered 560 training examples\n"
     ]
    }
   ],
   "source": [
    "##TODO Store the entity labels you want to train for as array in chosen_entity_labels\n",
    "chosen_entity_labels = [\"Companies worked at\",\"Degree\"]\n",
    "\n",
    "## this method gathers all resumes which have all of the chosen entites above.\n",
    "def gather_candidates(dataset,entity_labels):\n",
    "    candidates = list()\n",
    "    for resume in dataset:\n",
    "        res_ent_labels = list(zip(*resume[1][\"entities\"]))[2]\n",
    "        if set(entity_labels).issubset(res_ent_labels):\n",
    "            candidates.append(resume)\n",
    "    return candidates\n",
    "## TODO use the gather candidates methods and store result in training_data variable\n",
    "training_data = gather_candidates(resumes,chosen_entity_labels)\n",
    "print(\"Gathered {} training examples\".format(len(training_data)))"
   ]
  },
  {
   "cell_type": "markdown",
   "metadata": {},
   "source": [
    "Now we have those training examples which contain the entities we are interested in. Do you have at least a few hundred examples? If not, you might need to re-think the entities you chose or try just one or two of them and re-run the notebooks. It is important that we have several hundred examples for training (e.g. more than 200. 3-500 is better). "
   ]
  },
  {
   "cell_type": "markdown",
   "metadata": {},
   "source": [
    "##### Remove other entity annotations from training data\n",
    "Now that we have our training data, we want to remove all but relevant (chosen) entity annotations from this data, so that the model we train will only train for our entities. Complete and execute the code below to do this. "
   ]
  },
  {
   "cell_type": "code",
   "execution_count": 10,
   "metadata": {},
   "outputs": [],
   "source": [
    "## filter all annotation based on filter list\n",
    "def filter_ents(ents, filter):\n",
    "    filtered = [ent for ent in ents if ent[2] in filter]\n",
    "    return filtered\n",
    "\n",
    "## now remove all but relevant (chosen) entity annotations and store in X variable \n",
    "X = [[dat[0], dict(entities=filter_ents(dat[1]['entities'], chosen_entity_labels))] for dat in training_data]\n"
   ]
  },
  {
   "cell_type": "markdown",
   "metadata": {},
   "source": [
    "##### Remove resumes that cause errors in spacy\n",
    "Depending on what entities you chose, some of the resumes might cause errors in spacy. We don't need to get into details as to why, suffice to say it has to do with whitespace and syntax in the entity annotations. If these resumes are not removed from our training data, spacy will throw an exception during training, so we need to remove them first. \n",
    "\n",
    "We will use the remove_bad_data function below to do this. This function does the following:\n",
    "* calls train_spacy_ner with debug=True and n_iter=1. This causes spacy to process the documents one-by-one, and gather the documents that throw an exception in a list of \"bad docs\" which it returns. \n",
    "* You will complete the function to remove any baddocs (returned by remove_bad_data) from your training data list. \n",
    "\n",
    "You may or may not have any bad documents depending on the entities you chose. In any case, there should not be more than a dozen or so bad docs.  "
   ]
  },
  {
   "cell_type": "code",
   "execution_count": 11,
   "metadata": {},
   "outputs": [
    {
     "name": "stdout",
     "output_type": "stream",
     "text": [
      "Created blank 'en' model\n",
      "Losses {'ner': 46533.00248361219}\n",
      "Unfiltered training data size:  560\n",
      "Filtered training data size:  560\n",
      "Bad data size:  0\n"
     ]
    }
   ],
   "source": [
    "from spacy_train_resume_ner import train_spacy_ner\n",
    "\n",
    "def remove_bad_data(training_data):\n",
    "    model, baddocs = train_spacy_ner(training_data, debug=True, n_iter=1)\n",
    "    ## training data is list of lists with each list containing a text and annotations\n",
    "    ## baddocs is a set of strings/resume texts.\n",
    "    ## TODO complete implementation to filter bad docs and store filter result (good docs) in filtered variable\n",
    "    filtered = [data for data in training_data if data[0] not in baddocs]\n",
    "    print(\"Unfiltered training data size: \",len(training_data))\n",
    "    print(\"Filtered training data size: \", len(filtered))\n",
    "    print(\"Bad data size: \", len(baddocs))\n",
    "    return filtered\n",
    "\n",
    "## call remove method. It may take a few minutes for the method to complete.\n",
    "## you will know it is complete when the print output above. \n",
    "X = remove_bad_data(X)"
   ]
  },
  {
   "cell_type": "markdown",
   "metadata": {},
   "source": [
    "##### Question: How many bad docs did you have? What is the size of your new (filtered) training data? \n",
    "*Answer here*"
   ]
  },
  {
   "cell_type": "markdown",
   "metadata": {},
   "source": [
    "##### Train/Test Split\n",
    "Now before we train our model, we have to split our available training data into training and test sets. Splitting our data into train and test (or holdout) datasets is a fundamental technique in machine learning, and essential to avoid the problem of overfitting.\n",
    "Before we go on, you should get a grasp of how train/test split helps us avoid overfitting. Please take the time now to do a quick web search on the topic. There are many resources available. You should search for \"train test validation overfitting\" or some subset of those terms.\n",
    "\n",
    "Here are a few articles to start with:\n",
    "* https://machinelearningmastery.com/a-simple-intuition-for-overfitting/\n",
    "* https://scikit-learn.org/stable/modules/cross_validation.html#cross-validation (Note: you are free to install scikit learn and use the train_test_split method documented here, but it is not necessary. It is the concept that is important)\n",
    "\n",
    "##### Question: What is overfitting and how does doing a train/test split help us avoid overfitting when training our models? Please answer in your own words. \n",
    "*Answer here*"
   ]
  },
  {
   "cell_type": "markdown",
   "metadata": {},
   "source": [
    "Now that we understand why we do a train/test split, we will write some code that splits our data into train and test sets. Usually we want around 70-80% of the data for train, and the rest for test. \n",
    "##### TODO: Complete the code below to create a train and test dataset"
   ]
  },
  {
   "cell_type": "code",
   "execution_count": 12,
   "metadata": {},
   "outputs": [
    {
     "name": "stdout",
     "output_type": "stream",
     "text": [
      "Train size:  448\n",
      "Test size:  112\n",
      "X size:  560\n"
     ]
    }
   ],
   "source": [
    "##TODO complete the implementation  of the train test split function below\n",
    "def train_test_split(X,train_percent):\n",
    "    train_size = int(len(X)*train_percent)\n",
    "    train = X[:train_size]\n",
    "    test = X[train_size:]\n",
    "    assert len(train)+len(test)==len(X)\n",
    "    return train,test\n",
    "## do train test split\n",
    "train,test = train_test_split(X,0.8)\n",
    "## TODO print the size of train and test sets. Do they add up to length of X? \n",
    "print(\"Train size: \",len(train))\n",
    "print(\"Test size: \",len(test))\n",
    "print(\"X size: \",len(X))\n"
   ]
  },
  {
   "cell_type": "markdown",
   "metadata": {},
   "source": [
    "##### Train a spacy ner model with our training data\n",
    "OK, now it is (finally) time to train our own custom NER model using spacy. Because our training data has been preprocessed to only include annotations for the entities we are interested in, the model will only be able to predict/extract those entities. \n",
    "*Depending on your computer, this step may take a while.* Training 20 epochs (iterations) using 480 training examples takes around 10 minutes on my machine (core i7 CPU). You will see output like *Losses {'ner':2342.23342342}* after each epoch/iteration. The default number of iterations is 20, so you will see this output 20 times. When this step is done, we will use the trained ner model to perform predictions on our test data in our test set.  "
   ]
  },
  {
   "cell_type": "code",
   "execution_count": 13,
   "metadata": {},
   "outputs": [
    {
     "name": "stdout",
     "output_type": "stream",
     "text": [
      "Created blank 'en' model\n",
      "Losses {'ner': 25392.5586021567}\n",
      "Losses {'ner': 36393.155208915356}\n",
      "Losses {'ner': 35491.96489308332}\n",
      "Losses {'ner': 36124.76872248634}\n",
      "Losses {'ner': 41391.83340095449}\n",
      "Losses {'ner': 32358.108264012262}\n",
      "Losses {'ner': 49447.94876056269}\n",
      "Losses {'ner': 22969.220427729888}\n",
      "Losses {'ner': 20394.279494144535}\n",
      "Losses {'ner': 9964.328544420878}\n",
      "Losses {'ner': 6869.884511875207}\n",
      "Losses {'ner': 5060.411938441683}\n",
      "Losses {'ner': 4725.259286201559}\n",
      "Losses {'ner': 4381.687212255663}\n",
      "Losses {'ner': 4325.9589459544595}\n",
      "Losses {'ner': 3576.2664387296454}\n",
      "Losses {'ner': 3266.4662465489046}\n",
      "Losses {'ner': 3357.245543475568}\n",
      "Losses {'ner': 2972.806551699933}\n",
      "Losses {'ner': 2803.824792371854}\n"
     ]
    }
   ],
   "source": [
    "## run this code to train a ner model using spacy\n",
    "custom_nlp,_= train_spacy_ner(train)"
   ]
  },
  {
   "cell_type": "markdown",
   "metadata": {},
   "source": [
    "##### Inspect NER predictions on one sample resume\n",
    "Now that we have a trained model, let's see how it works on one of our resumes. "
   ]
  },
  {
   "cell_type": "code",
   "execution_count": 14,
   "metadata": {},
   "outputs": [],
   "source": [
    "## TODO fetch one resume out of our test dataset and store to the \"resume\" variable\n",
    "resume = test[73]\n",
    "## TODO create a spacy doc out of the resume using our trained model and save to the \"doc\" variable \n",
    "doc = custom_nlp(resume[0])"
   ]
  },
  {
   "cell_type": "markdown",
   "metadata": {},
   "source": [
    "Now we will output the predicted entities and the existing annotated entities in that doc"
   ]
  },
  {
   "cell_type": "code",
   "execution_count": 15,
   "metadata": {},
   "outputs": [
    {
     "name": "stdout",
     "output_type": "stream",
     "text": [
      "PREDICTED:\n",
      "Companies worked at  Dhruva hiring services, Krishna Sales Corporation, Everest Enterprises.\n",
      "Companies worked at  1)Shri Krishna Sales Corporation\n",
      "Degree               BCom in Commerce\n",
      "Degree               BCom\n",
      "\n",
      "LABELED:\n",
      "Degree               BCom\n",
      "Degree               BCom in Commerce\n",
      "Degree               BCom\n",
      "Companies worked at  Dhruva hiring services, Krishna Sales Corporation, Everest Enterprises.\n"
     ]
    }
   ],
   "source": [
    "## TODO output predicted entities (in \"ents\" variable of the spacy doc created above)\n",
    "print(\"PREDICTED:\")\n",
    "for ent in doc.ents:\n",
    "    print(\"{:20} {}\".format(ent.label_,ent))\n",
    "print()\n",
    "## TODO output labeled entities (in \"entities\" dictionary of resume)\n",
    "print(\"LABELED:\")\n",
    "for ent in resume[1][\"entities\"]:\n",
    "    print(\"{:20} {}\".format(ent[2],resume[0][ent[0]:ent[1]]))    \n"
   ]
  },
  {
   "cell_type": "markdown",
   "metadata": {},
   "source": [
    "#### Evaluation Metrics for NER\n",
    "Now that we can predict entities using our trained model, we can compare our predictions with the original annotations in our training data to evaluate how well our model performs for our task. The original annotations have been annotated manually by human annotators, and represent a \"Gold Standard\" against which we can compare our predictions. \n",
    "\n",
    "For a simple classification task, the following evaluation metrics are usually used:\n",
    "* accuracy\n",
    "* precision\n",
    "* recall\n",
    "* f1 score\n",
    "* ROC/AUC\n",
    "\n",
    "We will be most interested in *accuracy, precision and recall.* In order to understand these metrics, we need to understand the following concepts:\n",
    "* True positives - How many of the predicted entities are \"true\" according to the Gold Standard? (training annotation) \n",
    "* True negatives - How many entities did the model not predict which are actually not entities according to the Gold Standard?\n",
    "* False positives - How many entities did the model predict which are NOT entities according to the Gold Standard?  \n",
    "* False negatives - How many entities did the model \"miss\" - e.g. did not recognize as entities which are entities according to the Gold Standard? \n",
    "\n",
    "Before we go on, it is important that you understand true/false positives/negatives as well as accuracy, precision and recall. Take some time now to research the web in order to find answers to the following questions:\n",
    "\n",
    "##### Question: How are \"accuracy\", \"precision\", and \"recall\" defined in the context of evaluating Machine Learning models? How do they relate to True/False Positives/Negatives above? Please provide an intuitive description as well as the mathmatical formula for each metric. \n",
    "*Answers here*\n",
    "\n",
    "##### Task: Based on the output in the previous cell (based on one single example), please calculate for each entity of interest  a precision and recall score for our model. \n",
    "Note - this should be a relatively simple calculation - you can even do this in your head. Keep in mind this is only based on one single example. Please describe your reasoning and calculations below: \n",
    "*Answer here*\n",
    "\n",
    "##### Question: Did you have any problems or confusion calculating precision and recall? If so, what? \n",
    "*Answer here*"
   ]
  },
  {
   "cell_type": "markdown",
   "metadata": {},
   "source": [
    "##### Calculating Metrics based on token-level annotations or full entity-level. \n",
    "The concepts above are our first step toward understanding how to evaluate our model effectively. However, in NER, we need to take into account that we can calculate our metrics either based on tokens (words) or on full entity level. \n",
    "\n",
    "##### Token-Level evaluation. \n",
    "Token level evaluation evaluates how accurately did the model tag *each individual word/token* in the input. In order to understand this, we need to understand something called the \"BILUO\" Scheme (or BILOU or BIO). The spacy docs have a good reference. Please read and familiarize yourself with BILUO. \n",
    "\n",
    "https://spacy.io/api/annotation#biluo\n",
    "\n",
    "Up to now, we have not been working with the BILUO scheme, but with \"offsets\" (for example: (112,150,\"Email\") - which says there is an \"Email\" entity between positions 112 and 150 in the text). We would like to be able to evaluate our models on a token-level using BILUO - so we need to convert our data to BILUO. Fortunately, Spacy provides a helper method to do this for us.\n",
    "\n",
    "*Execute the code below to see how our \"Gold Standard\" and predictions for our example doc above look in BILUO scheme.* \n",
    "Note: some of the lines might be ommited for display purposes. "
   ]
  },
  {
   "cell_type": "code",
   "execution_count": 37,
   "metadata": {},
   "outputs": [
    {
     "data": {
      "text/html": [
       "<div>\n",
       "<style scoped>\n",
       "    .dataframe tbody tr th:only-of-type {\n",
       "        vertical-align: middle;\n",
       "    }\n",
       "\n",
       "    .dataframe tbody tr th {\n",
       "        vertical-align: top;\n",
       "    }\n",
       "\n",
       "    .dataframe thead th {\n",
       "        text-align: right;\n",
       "    }\n",
       "</style>\n",
       "<table border=\"1\" class=\"dataframe\">\n",
       "  <thead>\n",
       "    <tr style=\"text-align: right;\">\n",
       "      <th></th>\n",
       "      <th>Tokens</th>\n",
       "      <th>Predicted</th>\n",
       "      <th>True</th>\n",
       "    </tr>\n",
       "  </thead>\n",
       "  <tbody>\n",
       "    <tr>\n",
       "      <th>0</th>\n",
       "      <td>Zaheer</td>\n",
       "      <td>O</td>\n",
       "      <td>O</td>\n",
       "    </tr>\n",
       "    <tr>\n",
       "      <th>1</th>\n",
       "      <td>Uddin</td>\n",
       "      <td>O</td>\n",
       "      <td>O</td>\n",
       "    </tr>\n",
       "    <tr>\n",
       "      <th>2</th>\n",
       "      <td>\\n</td>\n",
       "      <td>O</td>\n",
       "      <td>O</td>\n",
       "    </tr>\n",
       "    <tr>\n",
       "      <th>3</th>\n",
       "      <td>Technical</td>\n",
       "      <td>O</td>\n",
       "      <td>O</td>\n",
       "    </tr>\n",
       "    <tr>\n",
       "      <th>4</th>\n",
       "      <td>Project</td>\n",
       "      <td>O</td>\n",
       "      <td>O</td>\n",
       "    </tr>\n",
       "    <tr>\n",
       "      <th>5</th>\n",
       "      <td>Manager</td>\n",
       "      <td>O</td>\n",
       "      <td>O</td>\n",
       "    </tr>\n",
       "    <tr>\n",
       "      <th>6</th>\n",
       "      <td>\\n\\n</td>\n",
       "      <td>O</td>\n",
       "      <td>O</td>\n",
       "    </tr>\n",
       "    <tr>\n",
       "      <th>7</th>\n",
       "      <td>Hyderabad</td>\n",
       "      <td>O</td>\n",
       "      <td>O</td>\n",
       "    </tr>\n",
       "    <tr>\n",
       "      <th>8</th>\n",
       "      <td>,</td>\n",
       "      <td>O</td>\n",
       "      <td>O</td>\n",
       "    </tr>\n",
       "    <tr>\n",
       "      <th>9</th>\n",
       "      <td>Telangana</td>\n",
       "      <td>O</td>\n",
       "      <td>O</td>\n",
       "    </tr>\n",
       "    <tr>\n",
       "      <th>10</th>\n",
       "      <td>-</td>\n",
       "      <td>O</td>\n",
       "      <td>O</td>\n",
       "    </tr>\n",
       "    <tr>\n",
       "      <th>11</th>\n",
       "      <td>Email</td>\n",
       "      <td>O</td>\n",
       "      <td>O</td>\n",
       "    </tr>\n",
       "    <tr>\n",
       "      <th>12</th>\n",
       "      <td>me</td>\n",
       "      <td>O</td>\n",
       "      <td>O</td>\n",
       "    </tr>\n",
       "    <tr>\n",
       "      <th>13</th>\n",
       "      <td>on</td>\n",
       "      <td>O</td>\n",
       "      <td>O</td>\n",
       "    </tr>\n",
       "    <tr>\n",
       "      <th>14</th>\n",
       "      <td>Indeed</td>\n",
       "      <td>O</td>\n",
       "      <td>O</td>\n",
       "    </tr>\n",
       "    <tr>\n",
       "      <th>15</th>\n",
       "      <td>:</td>\n",
       "      <td>O</td>\n",
       "      <td>O</td>\n",
       "    </tr>\n",
       "    <tr>\n",
       "      <th>16</th>\n",
       "      <td>indeed.com/r/Zaheer-Uddin/fd9892e91ac9a58f</td>\n",
       "      <td>O</td>\n",
       "      <td>O</td>\n",
       "    </tr>\n",
       "    <tr>\n",
       "      <th>17</th>\n",
       "      <td>\\n\\n</td>\n",
       "      <td>O</td>\n",
       "      <td>O</td>\n",
       "    </tr>\n",
       "    <tr>\n",
       "      <th>18</th>\n",
       "      <td>To</td>\n",
       "      <td>O</td>\n",
       "      <td>O</td>\n",
       "    </tr>\n",
       "    <tr>\n",
       "      <th>19</th>\n",
       "      <td>be</td>\n",
       "      <td>O</td>\n",
       "      <td>O</td>\n",
       "    </tr>\n",
       "    <tr>\n",
       "      <th>20</th>\n",
       "      <td>associated</td>\n",
       "      <td>O</td>\n",
       "      <td>O</td>\n",
       "    </tr>\n",
       "    <tr>\n",
       "      <th>21</th>\n",
       "      <td>with</td>\n",
       "      <td>O</td>\n",
       "      <td>O</td>\n",
       "    </tr>\n",
       "    <tr>\n",
       "      <th>22</th>\n",
       "      <td>a</td>\n",
       "      <td>O</td>\n",
       "      <td>O</td>\n",
       "    </tr>\n",
       "    <tr>\n",
       "      <th>23</th>\n",
       "      <td>dynamic</td>\n",
       "      <td>O</td>\n",
       "      <td>O</td>\n",
       "    </tr>\n",
       "    <tr>\n",
       "      <th>24</th>\n",
       "      <td>team</td>\n",
       "      <td>O</td>\n",
       "      <td>O</td>\n",
       "    </tr>\n",
       "    <tr>\n",
       "      <th>25</th>\n",
       "      <td>in</td>\n",
       "      <td>O</td>\n",
       "      <td>O</td>\n",
       "    </tr>\n",
       "    <tr>\n",
       "      <th>26</th>\n",
       "      <td>a</td>\n",
       "      <td>O</td>\n",
       "      <td>O</td>\n",
       "    </tr>\n",
       "    <tr>\n",
       "      <th>27</th>\n",
       "      <td>progressive</td>\n",
       "      <td>O</td>\n",
       "      <td>O</td>\n",
       "    </tr>\n",
       "    <tr>\n",
       "      <th>28</th>\n",
       "      <td>organization</td>\n",
       "      <td>O</td>\n",
       "      <td>O</td>\n",
       "    </tr>\n",
       "    <tr>\n",
       "      <th>29</th>\n",
       "      <td>that</td>\n",
       "      <td>O</td>\n",
       "      <td>O</td>\n",
       "    </tr>\n",
       "    <tr>\n",
       "      <th>...</th>\n",
       "      <td>...</td>\n",
       "      <td>...</td>\n",
       "      <td>...</td>\n",
       "    </tr>\n",
       "    <tr>\n",
       "      <th>870</th>\n",
       "      <td>\\n\\n</td>\n",
       "      <td>O</td>\n",
       "      <td>-</td>\n",
       "    </tr>\n",
       "    <tr>\n",
       "      <th>871</th>\n",
       "      <td>EDUCATION</td>\n",
       "      <td>O</td>\n",
       "      <td>-</td>\n",
       "    </tr>\n",
       "    <tr>\n",
       "      <th>872</th>\n",
       "      <td>\\n\\n</td>\n",
       "      <td>O</td>\n",
       "      <td>O</td>\n",
       "    </tr>\n",
       "    <tr>\n",
       "      <th>873</th>\n",
       "      <td>BSc</td>\n",
       "      <td>U-Degree</td>\n",
       "      <td>O</td>\n",
       "    </tr>\n",
       "    <tr>\n",
       "      <th>874</th>\n",
       "      <td>\\n\\n</td>\n",
       "      <td>O</td>\n",
       "      <td>O</td>\n",
       "    </tr>\n",
       "    <tr>\n",
       "      <th>875</th>\n",
       "      <td>Osmania</td>\n",
       "      <td>O</td>\n",
       "      <td>O</td>\n",
       "    </tr>\n",
       "    <tr>\n",
       "      <th>876</th>\n",
       "      <td>University</td>\n",
       "      <td>O</td>\n",
       "      <td>O</td>\n",
       "    </tr>\n",
       "    <tr>\n",
       "      <th>877</th>\n",
       "      <td>\\n\\n</td>\n",
       "      <td>O</td>\n",
       "      <td>O</td>\n",
       "    </tr>\n",
       "    <tr>\n",
       "      <th>878</th>\n",
       "      <td>2007</td>\n",
       "      <td>O</td>\n",
       "      <td>O</td>\n",
       "    </tr>\n",
       "    <tr>\n",
       "      <th>879</th>\n",
       "      <td>\\n\\n</td>\n",
       "      <td>O</td>\n",
       "      <td>O</td>\n",
       "    </tr>\n",
       "    <tr>\n",
       "      <th>880</th>\n",
       "      <td>Board</td>\n",
       "      <td>O</td>\n",
       "      <td>O</td>\n",
       "    </tr>\n",
       "    <tr>\n",
       "      <th>881</th>\n",
       "      <td>of</td>\n",
       "      <td>O</td>\n",
       "      <td>O</td>\n",
       "    </tr>\n",
       "    <tr>\n",
       "      <th>882</th>\n",
       "      <td>Secondary</td>\n",
       "      <td>O</td>\n",
       "      <td>O</td>\n",
       "    </tr>\n",
       "    <tr>\n",
       "      <th>883</th>\n",
       "      <td>Education</td>\n",
       "      <td>O</td>\n",
       "      <td>O</td>\n",
       "    </tr>\n",
       "    <tr>\n",
       "      <th>884</th>\n",
       "      <td>-</td>\n",
       "      <td>O</td>\n",
       "      <td>O</td>\n",
       "    </tr>\n",
       "    <tr>\n",
       "      <th>885</th>\n",
       "      <td></td>\n",
       "      <td>O</td>\n",
       "      <td>O</td>\n",
       "    </tr>\n",
       "    <tr>\n",
       "      <th>886</th>\n",
       "      <td>Hyderabad</td>\n",
       "      <td>O</td>\n",
       "      <td>O</td>\n",
       "    </tr>\n",
       "    <tr>\n",
       "      <th>887</th>\n",
       "      <td>,</td>\n",
       "      <td>O</td>\n",
       "      <td>O</td>\n",
       "    </tr>\n",
       "    <tr>\n",
       "      <th>888</th>\n",
       "      <td>Telangana</td>\n",
       "      <td>O</td>\n",
       "      <td>O</td>\n",
       "    </tr>\n",
       "    <tr>\n",
       "      <th>889</th>\n",
       "      <td>\\n\\n</td>\n",
       "      <td>O</td>\n",
       "      <td>O</td>\n",
       "    </tr>\n",
       "    <tr>\n",
       "      <th>890</th>\n",
       "      <td>2004</td>\n",
       "      <td>O</td>\n",
       "      <td>O</td>\n",
       "    </tr>\n",
       "    <tr>\n",
       "      <th>891</th>\n",
       "      <td>\\n\\n</td>\n",
       "      <td>O</td>\n",
       "      <td>O</td>\n",
       "    </tr>\n",
       "    <tr>\n",
       "      <th>892</th>\n",
       "      <td>Diploma</td>\n",
       "      <td>B-Degree</td>\n",
       "      <td>O</td>\n",
       "    </tr>\n",
       "    <tr>\n",
       "      <th>893</th>\n",
       "      <td>in</td>\n",
       "      <td>I-Degree</td>\n",
       "      <td>O</td>\n",
       "    </tr>\n",
       "    <tr>\n",
       "      <th>894</th>\n",
       "      <td>Computer</td>\n",
       "      <td>I-Degree</td>\n",
       "      <td>O</td>\n",
       "    </tr>\n",
       "    <tr>\n",
       "      <th>895</th>\n",
       "      <td>Application</td>\n",
       "      <td>L-Degree</td>\n",
       "      <td>O</td>\n",
       "    </tr>\n",
       "    <tr>\n",
       "      <th>896</th>\n",
       "      <td>\\n\\n</td>\n",
       "      <td>O</td>\n",
       "      <td>O</td>\n",
       "    </tr>\n",
       "    <tr>\n",
       "      <th>897</th>\n",
       "      <td>Mac</td>\n",
       "      <td>O</td>\n",
       "      <td>O</td>\n",
       "    </tr>\n",
       "    <tr>\n",
       "      <th>898</th>\n",
       "      <td>infotech</td>\n",
       "      <td>O</td>\n",
       "      <td>O</td>\n",
       "    </tr>\n",
       "    <tr>\n",
       "      <th>899</th>\n",
       "      <td>Center</td>\n",
       "      <td>O</td>\n",
       "      <td>O</td>\n",
       "    </tr>\n",
       "  </tbody>\n",
       "</table>\n",
       "<p>900 rows × 3 columns</p>\n",
       "</div>"
      ],
      "text/plain": [
       "                                         Tokens Predicted True\n",
       "0                                        Zaheer         O    O\n",
       "1                                         Uddin         O    O\n",
       "2                                            \\n         O    O\n",
       "3                                     Technical         O    O\n",
       "4                                       Project         O    O\n",
       "5                                       Manager         O    O\n",
       "6                                          \\n\\n         O    O\n",
       "7                                     Hyderabad         O    O\n",
       "8                                             ,         O    O\n",
       "9                                     Telangana         O    O\n",
       "10                                            -         O    O\n",
       "11                                        Email         O    O\n",
       "12                                           me         O    O\n",
       "13                                           on         O    O\n",
       "14                                       Indeed         O    O\n",
       "15                                            :         O    O\n",
       "16   indeed.com/r/Zaheer-Uddin/fd9892e91ac9a58f         O    O\n",
       "17                                         \\n\\n         O    O\n",
       "18                                           To         O    O\n",
       "19                                           be         O    O\n",
       "20                                   associated         O    O\n",
       "21                                         with         O    O\n",
       "22                                            a         O    O\n",
       "23                                      dynamic         O    O\n",
       "24                                         team         O    O\n",
       "25                                           in         O    O\n",
       "26                                            a         O    O\n",
       "27                                  progressive         O    O\n",
       "28                                 organization         O    O\n",
       "29                                         that         O    O\n",
       "..                                          ...       ...  ...\n",
       "870                                        \\n\\n         O    -\n",
       "871                                   EDUCATION         O    -\n",
       "872                                        \\n\\n         O    O\n",
       "873                                         BSc  U-Degree    O\n",
       "874                                        \\n\\n         O    O\n",
       "875                                     Osmania         O    O\n",
       "876                                  University         O    O\n",
       "877                                        \\n\\n         O    O\n",
       "878                                        2007         O    O\n",
       "879                                        \\n\\n         O    O\n",
       "880                                       Board         O    O\n",
       "881                                          of         O    O\n",
       "882                                   Secondary         O    O\n",
       "883                                   Education         O    O\n",
       "884                                           -         O    O\n",
       "885                                                     O    O\n",
       "886                                   Hyderabad         O    O\n",
       "887                                           ,         O    O\n",
       "888                                   Telangana         O    O\n",
       "889                                        \\n\\n         O    O\n",
       "890                                        2004         O    O\n",
       "891                                        \\n\\n         O    O\n",
       "892                                     Diploma  B-Degree    O\n",
       "893                                          in  I-Degree    O\n",
       "894                                    Computer  I-Degree    O\n",
       "895                                 Application  L-Degree    O\n",
       "896                                        \\n\\n         O    O\n",
       "897                                         Mac         O    O\n",
       "898                                    infotech         O    O\n",
       "899                                      Center         O    O\n",
       "\n",
       "[900 rows x 3 columns]"
      ]
     },
     "metadata": {},
     "output_type": "display_data"
    }
   ],
   "source": [
    "from spacy.gold import biluo_tags_from_offsets\n",
    "import pandas as pd\n",
    "from IPython.display import display, HTML\n",
    "\n",
    "## returns a pandas dataframe with tokens, prediction, and true (Gold Standard) annotations of tokens\n",
    "def make_bilou_df(nlp,resume):\n",
    "    doc = nlp(resume[0])\n",
    "    bilou_ents_predicted = biluo_tags_from_offsets(doc, [(ent.start_char,ent.end_char,ent.label_)for ent in doc.ents])\n",
    "    bilou_ents_true = biluo_tags_from_offsets(doc,\n",
    "                                                   [(ent[0], ent[1], ent[2]) for ent in resume[1][\"entities\"]])\n",
    "\n",
    "    \n",
    "    doc_tokens = [tok for tok in doc]\n",
    "    bilou_df = pd.DataFrame()\n",
    "    bilou_df[\"Tokens\"] =doc_tokens\n",
    "    bilou_df[\"Predicted\"] = bilou_ents_predicted\n",
    "    bilou_df[\"True\"] = bilou_ents_true\n",
    "    return bilou_df\n",
    "\n",
    "bilou_df = make_bilou_df(custom_nlp,test[110])\n",
    "display(bilou_df)  \n"
   ]
  },
  {
   "cell_type": "markdown",
   "metadata": {},
   "source": [
    "Based on this output, it should be very easy to calculate a token-level accuracy. We simply compare the \"Predicted\" to \"True\" columns and calculate what percentage are the same. "
   ]
  },
  {
   "cell_type": "code",
   "execution_count": 38,
   "metadata": {},
   "outputs": [
    {
     "name": "stdout",
     "output_type": "stream",
     "text": [
      "Accuracy on one resume:  0.9888888888888889\n"
     ]
    }
   ],
   "source": [
    "## using pandas Dataframe here to get subset where predicted and true are the same. \n",
    "same_df = bilou_df[bilou_df[\"Predicted\"]==bilou_df[\"True\"]]\n",
    "## accuracy is len of same_df/len of bilou_df\n",
    "accuracy = float(same_df.shape[0])/bilou_df.shape[0]\n",
    "print(\"Accuracy on one resume: \",accuracy)\n"
   ]
  },
  {
   "cell_type": "markdown",
   "metadata": {},
   "source": [
    "The accuracy might be pretty good... if it is not 100%, then let's print out those tokens where the model predicted something different than the gold standard by running the code below. \n",
    "\n",
    "Note - if your score on one doc is 100%, pick another document and re-run the last few cells above. "
   ]
  },
  {
   "cell_type": "code",
   "execution_count": 39,
   "metadata": {},
   "outputs": [
    {
     "data": {
      "text/html": [
       "<div>\n",
       "<style scoped>\n",
       "    .dataframe tbody tr th:only-of-type {\n",
       "        vertical-align: middle;\n",
       "    }\n",
       "\n",
       "    .dataframe tbody tr th {\n",
       "        vertical-align: top;\n",
       "    }\n",
       "\n",
       "    .dataframe thead th {\n",
       "        text-align: right;\n",
       "    }\n",
       "</style>\n",
       "<table border=\"1\" class=\"dataframe\">\n",
       "  <thead>\n",
       "    <tr style=\"text-align: right;\">\n",
       "      <th></th>\n",
       "      <th>Tokens</th>\n",
       "      <th>Predicted</th>\n",
       "      <th>True</th>\n",
       "    </tr>\n",
       "  </thead>\n",
       "  <tbody>\n",
       "    <tr>\n",
       "      <th>264</th>\n",
       "      <td>Manager</td>\n",
       "      <td>O</td>\n",
       "      <td>-</td>\n",
       "    </tr>\n",
       "    <tr>\n",
       "      <th>265</th>\n",
       "      <td>\\n\\n</td>\n",
       "      <td>O</td>\n",
       "      <td>-</td>\n",
       "    </tr>\n",
       "    <tr>\n",
       "      <th>266</th>\n",
       "      <td>Microsoft</td>\n",
       "      <td>U-Companies worked at</td>\n",
       "      <td>-</td>\n",
       "    </tr>\n",
       "    <tr>\n",
       "      <th>870</th>\n",
       "      <td>\\n\\n</td>\n",
       "      <td>O</td>\n",
       "      <td>-</td>\n",
       "    </tr>\n",
       "    <tr>\n",
       "      <th>871</th>\n",
       "      <td>EDUCATION</td>\n",
       "      <td>O</td>\n",
       "      <td>-</td>\n",
       "    </tr>\n",
       "    <tr>\n",
       "      <th>873</th>\n",
       "      <td>BSc</td>\n",
       "      <td>U-Degree</td>\n",
       "      <td>O</td>\n",
       "    </tr>\n",
       "    <tr>\n",
       "      <th>892</th>\n",
       "      <td>Diploma</td>\n",
       "      <td>B-Degree</td>\n",
       "      <td>O</td>\n",
       "    </tr>\n",
       "    <tr>\n",
       "      <th>893</th>\n",
       "      <td>in</td>\n",
       "      <td>I-Degree</td>\n",
       "      <td>O</td>\n",
       "    </tr>\n",
       "    <tr>\n",
       "      <th>894</th>\n",
       "      <td>Computer</td>\n",
       "      <td>I-Degree</td>\n",
       "      <td>O</td>\n",
       "    </tr>\n",
       "    <tr>\n",
       "      <th>895</th>\n",
       "      <td>Application</td>\n",
       "      <td>L-Degree</td>\n",
       "      <td>O</td>\n",
       "    </tr>\n",
       "  </tbody>\n",
       "</table>\n",
       "</div>"
      ],
      "text/plain": [
       "          Tokens              Predicted True\n",
       "264      Manager                      O    -\n",
       "265         \\n\\n                      O    -\n",
       "266    Microsoft  U-Companies worked at    -\n",
       "870         \\n\\n                      O    -\n",
       "871    EDUCATION                      O    -\n",
       "873          BSc               U-Degree    O\n",
       "892      Diploma               B-Degree    O\n",
       "893           in               I-Degree    O\n",
       "894     Computer               I-Degree    O\n",
       "895  Application               L-Degree    O"
      ]
     },
     "metadata": {},
     "output_type": "display_data"
    }
   ],
   "source": [
    "## diff_df contains all rows where predicted not equal Gold Standard. \n",
    "diff_df = bilou_df[bilou_df[\"Predicted\"]!=bilou_df[\"True\"]]\n",
    "display(diff_df)"
   ]
  },
  {
   "cell_type": "markdown",
   "metadata": {},
   "source": [
    "How is the accuracy on one document? Now we need to calculate the accuracy on all our test resumes and average them for an accuracy score. \n",
    "\n",
    "Please complete the code below to report an accuracy score on our test resumes"
   ]
  },
  {
   "cell_type": "code",
   "execution_count": 41,
   "metadata": {},
   "outputs": [
    {
     "name": "stdout",
     "output_type": "stream",
     "text": [
      "Accuracy:  0.9888888888888889\n"
     ]
    }
   ],
   "source": [
    "import numpy as np\n",
    "doc_accuracy = []\n",
    "for tres in test:\n",
    "    tres_df = make_bilou_df(custom_nlp,tres)\n",
    "    same_df = bilou_df[bilou_df[\"Predicted\"]==bilou_df[\"True\"]]\n",
    "    ## accuracy is len of same_df/len of bilou_df\n",
    "    accuracy = float(same_df.shape[0])/bilou_df.shape[0]\n",
    "    doc_accuracy.append(accuracy)\n",
    "\n",
    "total_acc = np.mean(doc_accuracy)\n",
    "print(\"Accuracy: \",total_acc)\n",
    "\n",
    "    "
   ]
  },
  {
   "cell_type": "markdown",
   "metadata": {},
   "source": [
    "Now, using what you know about precision and recall, supply code below which calculates precision and recall.\n",
    "\n",
    "*Note - you will remember that:*\n",
    "\n",
    "Precision = 𝑡𝑝/(𝑡𝑝+𝑓𝑝)\n",
    "\n",
    "Recall = 𝑡𝑝/(𝑡𝑝+𝑓𝑛) "
   ]
  },
  {
   "cell_type": "code",
   "execution_count": 51,
   "metadata": {},
   "outputs": [
    {
     "name": "stdout",
     "output_type": "stream",
     "text": [
      "tp: 888 fp: 6 fn: 4\n",
      "Precision:  0.9932885906040269\n",
      "Recall:  0.9955156950672646\n"
     ]
    }
   ],
   "source": [
    "true_positives = 0\n",
    "false_positives = 0\n",
    "false_negatives = 0\n",
    "for tres in [resume]:\n",
    "    tres_df = make_bilou_df(custom_nlp,tres)\n",
    "    tp = bilou_df[(bilou_df[\"Predicted\"]==bilou_df[\"True\"]) & (bilou_df[\"Predicted\"]==\"O\")]\n",
    "    fp = bilou_df[(bilou_df[\"Predicted\"]!=bilou_df[\"True\"]) & (bilou_df[\"Predicted\"]!=\"O\")]\n",
    "    fn = bilou_df[(bilou_df[\"Predicted\"]!=bilou_df[\"True\"]) & (bilou_df[\"Predicted\"]==\"O\")]\n",
    "    true_positives += tp.shape[0]\n",
    "    false_positives += fp.shape[0]\n",
    "    false_negatives += fn.shape[0]\n",
    "\n",
    "print(\"tp: {} fp: {} fn: {}\".format(true_positives,false_positives,false_negatives))\n",
    "precision = float(true_positives)/(true_positives+false_positives)\n",
    "recall = float(true_positives)/(true_positives+false_negatives)\n",
    "print(\"Precision: \",precision)\n",
    "print(\"Recall: \",recall)"
   ]
  },
  {
   "cell_type": "markdown",
   "metadata": {},
   "source": [
    "##### Question: how does the model perform on token-level accuracy? What did it miss? In those cases where the predictions didn't match the gold standard, were the predictions plausible or just \"spurious\" (wrong)? \n",
    "*Answer here* "
   ]
  },
  {
   "cell_type": "markdown",
   "metadata": {},
   "source": [
    "We are almost Done with part II! We just need to save our BILUO training data for reuse in Part III. Complete the code below to do this. "
   ]
  },
  {
   "cell_type": "code",
   "execution_count": null,
   "metadata": {},
   "outputs": [],
   "source": []
  }
 ],
 "metadata": {
  "kernelspec": {
   "display_name": "Python 3",
   "language": "python",
   "name": "python3"
  },
  "language_info": {
   "codemirror_mode": {
    "name": "ipython",
    "version": 3
   },
   "file_extension": ".py",
   "mimetype": "text/x-python",
   "name": "python",
   "nbconvert_exporter": "python",
   "pygments_lexer": "ipython3",
   "version": "3.6.5"
  }
 },
 "nbformat": 4,
 "nbformat_minor": 1
}
